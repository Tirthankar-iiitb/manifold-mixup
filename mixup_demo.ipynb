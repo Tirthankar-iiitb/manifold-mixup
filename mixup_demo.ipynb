{
 "cells": [
  {
   "cell_type": "code",
   "execution_count": null,
   "id": "e4c94793-00a9-4937-ae05-b53d9872b47f",
   "metadata": {},
   "outputs": [],
   "source": [
    "# voice recorder3\n",
    "# https://gist.github.com/arctic-hen7/5580d5452f77d4e6b206caf90f8d73c6"
   ]
  },
  {
   "cell_type": "code",
   "execution_count": null,
   "id": "93d63b0d-8c35-4628-a38f-45ce620df4ed",
   "metadata": {},
   "outputs": [],
   "source": [
    "import sounddevice\n",
    "import pyaudio\n",
    "import wave\n",
    "import sys\n",
    "import tempfile\n",
    "from ctypes import *\n",
    "import platform\n",
    "\n",
    "from mixupmodel_inference import device, MixupModel_Inference"
   ]
  },
  {
   "cell_type": "code",
   "execution_count": null,
   "id": "558e3c3b-aae4-48dd-b27a-2a0234166b80",
   "metadata": {},
   "outputs": [],
   "source": [
    "# Load Mixup model once\n",
    "modeldir='models'\n",
    "mixup_model_desc=f'model_stage2_mix_new6c_ep32_ctc30'\n",
    "mixup_modelpath=f'{modeldir}/{mixup_model_desc}.pth'\n",
    "model=MixupModel_Inference(mixup_modelpath,device=device)\n",
    "\n",
    "# Records audio directly from the microphone and then transcribes it to text using Whisper, returning that transcription.\n",
    "def transcribe_directly():\n",
    "    # Create a temporary file to store the recorded audio (this will be deleted once we've finished transcription)\n",
    "    temp_file = tempfile.NamedTemporaryFile(suffix=\".wav\")\n",
    "\n",
    "    sample_rate = 16000\n",
    "    bits_per_sample = 16\n",
    "    chunk_size = 1024\n",
    "    audio_format = pyaudio.paInt16\n",
    "    channels = 1\n",
    "\n",
    "    def callback(in_data, frame_count, time_info, status):\n",
    "        wav_file.writeframes(in_data)\n",
    "        return None, pyaudio.paContinue\n",
    "\n",
    "    # Open the wave file for writing\n",
    "    wav_file = wave.open(temp_file.name, 'wb')\n",
    "    wav_file.setnchannels(channels)\n",
    "    wav_file.setsampwidth(bits_per_sample // 8)\n",
    "    wav_file.setframerate(sample_rate)\n",
    "\n",
    "    # Initialize PyAudio\n",
    "    audio = pyaudio.PyAudio()\n",
    "\n",
    "    # Start recording audio\n",
    "    stream = audio.open(format=audio_format,\n",
    "                        channels=channels,\n",
    "                        rate=sample_rate,\n",
    "                        input=True,\n",
    "                        frames_per_buffer=chunk_size,\n",
    "                        stream_callback=callback)\n",
    "\n",
    "    input(\"Press Enter to stop recording...\")\n",
    "    # Stop and close the audio stream\n",
    "    stream.stop_stream()\n",
    "    stream.close()\n",
    "    audio.terminate()\n",
    "\n",
    "    # Close the wave file\n",
    "    wav_file.close()\n",
    "\n",
    "    # And transcribe the audio to text (suppressing warnings about running on a CPU)\n",
    "    result = model.transcribe(temp_file.name, fp16=False)\n",
    "    temp_file.close()\n",
    "\n",
    "    return result[\"text\"].strip()"
   ]
  },
  {
   "cell_type": "code",
   "execution_count": null,
   "id": "18d5b0a2-30ad-40f6-8649-f9af6faca293",
   "metadata": {},
   "outputs": [],
   "source": [
    "transcribe_directly()"
   ]
  },
  {
   "cell_type": "code",
   "execution_count": null,
   "id": "0abb57e0-eddd-44ce-b2b1-96f92395cb87",
   "metadata": {},
   "outputs": [],
   "source": []
  }
 ],
 "metadata": {
  "kernelspec": {
   "display_name": "torchenv",
   "language": "python",
   "name": "torchenv"
  },
  "language_info": {
   "codemirror_mode": {
    "name": "ipython",
    "version": 3
   },
   "file_extension": ".py",
   "mimetype": "text/x-python",
   "name": "python",
   "nbconvert_exporter": "python",
   "pygments_lexer": "ipython3",
   "version": "3.10.7"
  }
 },
 "nbformat": 4,
 "nbformat_minor": 5
}
